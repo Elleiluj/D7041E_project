{
 "cells": [
  {
   "cell_type": "markdown",
   "metadata": {
    "collapsed": false,
    "pycharm": {
     "name": ""
    }
   },
   "source": [
    "## D7041E - Mini project: Human Real-time Detection"
   ]
  },
  {
   "cell_type": "markdown",
   "metadata": {},
   "source": [
    "### Group: Laura Bermejo, Lina Borg, Julie Labbé"
   ]
  },
  {
   "cell_type": "markdown",
   "metadata": {},
   "source": [
    "#### References and sources\n",
    "For the training of our model, we got inspired by this video: https://www.youtube.com/watch?v=V4Kkrz__hvo."
   ]
  },
  {
   "cell_type": "markdown",
   "metadata": {},
   "source": [
    "#### Requirements\n",
    "The required libraries are super-gradient (for model), roboflow (for dataset) and supervision (for bounding boxes)."
   ]
  },
  {
   "cell_type": "markdown",
   "metadata": {},
   "source": [
    "pip install -q super-gradients <br>\n",
    "pip install -q roboflow <br>\n",
    "pip install -q supervision"
   ]
  },
  {
   "cell_type": "code",
   "execution_count": 1,
   "metadata": {},
   "outputs": [],
   "source": [
    "#%pip install -q super-gradients\n",
    "#%pip install -q roboflow\n",
    "#%pip install -q supervision"
   ]
  },
  {
   "cell_type": "markdown",
   "metadata": {},
   "source": [
    "#### Dataset"
   ]
  },
  {
   "cell_type": "markdown",
   "metadata": {},
   "source": [
    "##### Code to download the dataset"
   ]
  },
  {
   "cell_type": "code",
   "execution_count": null,
   "metadata": {},
   "outputs": [],
   "source": [
    "from roboflow import Roboflow\n",
    "rf = Roboflow(api_key=\"DNm47rTel6WBxKZqAd9T\")\n",
    "project = rf.workspace(\"capricon\").project(\"human-detection-q0nit\")\n",
    "dataset = project.version(2).download(\"yolov5\")"
   ]
  },
  {
   "cell_type": "markdown",
   "metadata": {},
   "source": [
    "#### class Config Class definition"
   ]
  },
  {
   "cell_type": "code",
   "execution_count": 3,
   "metadata": {},
   "outputs": [],
   "source": [
    "from typing import List, Dict\n",
    "\n",
    "class config:\n",
    "  #Project paths\n",
    "  DATA_DIR: str = \"Human-Detection-2\"\n",
    "  CHECKPOINT_DIR: str = \"checkpoints\"\n",
    "  EXPERIMENT_NAME: str = \"Project\"\n",
    "\n",
    "  #Datasets\n",
    "  TRAIN_IMAGES_DIR: str =\"train/images\"\n",
    "  TRAIN_LABELS_DIR: str = \"train/labels\"\n",
    "  VAL_IMAGES_DIR: str = \"valid/images\"\n",
    "  VAL_LABELS_DIR: str = \"valid/labels\"\n",
    "  TEST_IMAGES_DIR: str = \"test/images\"\n",
    "  TEST_LABELS_DIR: str = \"test/labels\"\n",
    "\n",
    "  #Classes\n",
    "  CLASSES: List[str] = [\"human\", \"vehicle\"]\n",
    "  NUM_CLASSES: int = 2\n",
    "\n",
    "  #Model 1\n",
    "  # DEFINE HYPERPARAMETERS, YOU WILL HAVE TO CHANGE IT\n",
    "  DATALOADER_PARAMS: Dict = {\n",
    "      'batch_size':16,\n",
    "      'num_workers':0\n",
    "  }\n",
    "  # THIS IS ALREADY SET, CHANGE ONLY DATALOADER PARAMS\n",
    "  MODEL_NAME: str = 'yolo_nas_l'\n",
    "  PRETRAINED_WEIGHTS: str ='coco'"
   ]
  },
  {
   "cell_type": "markdown",
   "metadata": {},
   "source": [
    "#### Dataloaders initialization"
   ]
  },
  {
   "cell_type": "code",
   "execution_count": null,
   "metadata": {},
   "outputs": [],
   "source": [
    "from IPython.display import clear_output\n",
    "from typing import List, Dict\n",
    "from super_gradients.training import models\n",
    "from super_gradients.training import Trainer\n",
    "from super_gradients.training.dataloaders.dataloaders import coco_detection_yolo_format_train\n",
    "from super_gradients.training.dataloaders.dataloaders import coco_detection_yolo_format_val\n",
    "from super_gradients.training.losses import PPYoloELoss\n",
    "from super_gradients.training.metrics import DetectionMetrics_050\n",
    "from super_gradients.training.models.detection_models.pp_yolo_e import PPYoloEPostPredictionCallback\n",
    "from typing import List, Dict\n",
    "from super_gradients.training.dataloaders.dataloaders import coco_detection_yolo_format_train\n",
    "from super_gradients.training.dataloaders.dataloaders import coco_detection_yolo_format_val"
   ]
  },
  {
   "cell_type": "code",
   "execution_count": null,
   "metadata": {},
   "outputs": [],
   "source": [
    "train_data = coco_detection_yolo_format_train(\n",
    "    dataset_params={\n",
    "        'data_dir': config.DATA_DIR,\n",
    "        'images_dir': config.TRAIN_IMAGES_DIR,\n",
    "        'labels_dir': config.TRAIN_LABELS_DIR,\n",
    "        'classes': config.CLASSES\n",
    "    },\n",
    "    dataloader_params=config.DATALOADER_PARAMS\n",
    ")\n",
    "\n",
    "test_data = coco_detection_yolo_format_val(\n",
    "    dataset_params={\n",
    "        'data_dir': config.DATA_DIR,\n",
    "        'images_dir': config.TRAIN_IMAGES_DIR,\n",
    "        'labels_dir': config.TRAIN_LABELS_DIR,\n",
    "        'classes': config.CLASSES\n",
    "    },\n",
    "    dataloader_params=config.DATALOADER_PARAMS\n",
    ")\n",
    "\n",
    "val_data = coco_detection_yolo_format_val(\n",
    "    dataset_params={\n",
    "        'data_dir': config.DATA_DIR,\n",
    "        'images_dir': config.TRAIN_IMAGES_DIR,\n",
    "        'labels_dir': config.TRAIN_LABELS_DIR,\n",
    "        'classes': config.CLASSES\n",
    "    },\n",
    "    dataloader_params=config.DATALOADER_PARAMS\n",
    ")"
   ]
  },
  {
   "cell_type": "markdown",
   "metadata": {},
   "source": [
    "#### Visualization"
   ]
  },
  {
   "cell_type": "code",
   "execution_count": null,
   "metadata": {},
   "outputs": [],
   "source": [
    "val_data.dataset.plot()"
   ]
  },
  {
   "cell_type": "markdown",
   "metadata": {},
   "source": [
    "#### Training hyperparameters"
   ]
  },
  {
   "cell_type": "code",
   "execution_count": 7,
   "metadata": {},
   "outputs": [],
   "source": [
    "# YOU HAVE TO SET THE HYPERPARAMETERS IN THIS VARIABLE\n",
    "train_params = {\n",
    "    \"average_best_models\":True,\n",
    "    \"warmup_mode\": \"linear_epoch_step\",\n",
    "    \"warmup_initial_lr\": 1e-6,\n",
    "    \"lr_warmup_epochs\": 3,\n",
    "    \"initial_lr\": 5e-4,\n",
    "    \"lr_mode\": \"cosine\",\n",
    "    \"cosine_final_lr_ratio\": 0.1,\n",
    "    \"optimizer\": \"Adam\",\n",
    "    \"optimizer_params\": {\"weight_decay\": 0.001},\n",
    "    \"zero_weight_decay_on_bias_and_bn\": True,\n",
    "    \"ema\": True,\n",
    "    \"ema_params\": {\"decay\": 0.9, \"decay_type\": \"threshold\"},\n",
    "    \"max_epochs\": 10,\n",
    "    \"mixed_precision\": True,\n",
    "    \"loss\" : PPYoloELoss (\n",
    "        use_static_assigner=False,\n",
    "        # NOTE: num_classes needs to be defined here\n",
    "        num_classes=config.NUM_CLASSES,\n",
    "        reg_max=16\n",
    "    ),\n",
    "\n",
    "    \"valid_metrics_list\": [\n",
    "        DetectionMetrics_050(\n",
    "            score_thres=0.1,\n",
    "            top_k_predictions=300,\n",
    "            # NOTE: num_classes needs to be defined here\n",
    "            num_cls=config.NUM_CLASSES,\n",
    "            normalize_targets=True,\n",
    "            post_prediction_callback=PPYoloEPostPredictionCallback(\n",
    "                score_threshold=0.01,\n",
    "                nms_top_k=1000,\n",
    "                max_predictions=300,\n",
    "                nms_threshold=0.8\n",
    "            )\n",
    "        )\n",
    "    ],\n",
    "    \"metric_to_watch\": 'mAP@0.50'\n",
    "}"
   ]
  },
  {
   "cell_type": "markdown",
   "metadata": {},
   "source": [
    "#### Training"
   ]
  },
  {
   "cell_type": "markdown",
   "metadata": {},
   "source": [
    "##### Download the model"
   ]
  },
  {
   "cell_type": "code",
   "execution_count": 8,
   "metadata": {},
   "outputs": [
    {
     "name": "stderr",
     "output_type": "stream",
     "text": [
      "[2024-01-08 18:47:27] INFO - checkpoint_utils.py - License Notification: YOLO-NAS pre-trained weights are subjected to the specific license terms and conditions detailed in \n",
      "https://github.com/Deci-AI/super-gradients/blob/master/LICENSE.YOLONAS.md\n",
      "By downloading the pre-trained weight files you agree to comply with these terms.\n",
      "[2024-01-08 18:47:29] INFO - checkpoint_utils.py - Successfully loaded pretrained weights for architecture yolo_nas_l\n"
     ]
    }
   ],
   "source": [
    "model = models.get(config.MODEL_NAME, num_classes=config.NUM_CLASSES, pretrained_weights=config.PRETRAINED_WEIGHTS)"
   ]
  },
  {
   "cell_type": "markdown",
   "metadata": {},
   "source": [
    "##### Initialize training"
   ]
  },
  {
   "cell_type": "code",
   "execution_count": 9,
   "metadata": {},
   "outputs": [],
   "source": [
    "trainer = Trainer(experiment_name=config.EXPERIMENT_NAME, ckpt_root_dir=config.CHECKPOINT_DIR)"
   ]
  },
  {
   "cell_type": "markdown",
   "metadata": {},
   "source": [
    "##### Train"
   ]
  },
  {
   "cell_type": "code",
   "execution_count": 10,
   "metadata": {},
   "outputs": [
    {
     "name": "stderr",
     "output_type": "stream",
     "text": [
      "[2024-01-08 18:47:29] INFO - sg_trainer.py - Starting a new run with `run_id=RUN_20240108_184729_542040`\n",
      "[2024-01-08 18:47:29] INFO - sg_trainer.py - Checkpoints directory: checkpoints\\Project\\RUN_20240108_184729_542040\n"
     ]
    },
    {
     "name": "stdout",
     "output_type": "stream",
     "text": [
      "The console stream is now moved to checkpoints\\Project\\RUN_20240108_184729_542040/console_Jan08_18_47_29.txt\n"
     ]
    },
    {
     "name": "stderr",
     "output_type": "stream",
     "text": [
      "[2024-01-08 18:47:30] INFO - sg_trainer.py - Using EMA with params {'decay': 0.9, 'decay_type': 'threshold'}\n",
      "Object name `linear_epoch_step` is now deprecated. Please replace it with `LinearEpochLRWarmup`.\n",
      "initialize_param_groups and update_param_groups usages are deprecated since 3.4.0, will be removed in 3.5.0 and have no effect. \n",
      " Assign different learning rates by passing a mapping of layer name prefixes to lr values through initial_lr training hyperparameter (i.e initial_lr={'backbone': 0.01, 'default':0.1})\n",
      "Mixed precision training is not supported on CPU. Disabling mixed precision. (i.e. `mixed_precision=False`)\n",
      "[2024-01-08 18:47:36] INFO - sg_trainer_utils.py - TRAINING PARAMETERS:\n",
      "    - Mode:                         Single GPU\n",
      "    - Number of GPUs:               0          (0 available on the machine)\n",
      "    - Full dataset size:            159        (len(train_set))\n",
      "    - Batch size per GPU:           16         (batch_size)\n",
      "    - Batch Accumulate:             1          (batch_accumulate)\n",
      "    - Total batch size:             16         (num_gpus * batch_size)\n",
      "    - Effective Batch size:         16         (num_gpus * batch_size * batch_accumulate)\n",
      "    - Iterations per epoch:         9          (len(train_loader))\n",
      "    - Gradient updates per epoch:   9          (len(train_loader) / batch_accumulate)\n",
      "    - Model: YoloNAS_L  (66.91M parameters, 66.91M optimized)\n",
      "    - Learning Rates and Weight Decays:\n",
      "      - default: (66.91M parameters). LR: 0.0005 (66.91M parameters) WD: 0.0, (84.69K parameters), WD: 0.001, (66.82M parameters)\n",
      "\n",
      "[2024-01-08 18:47:36] INFO - sg_trainer.py - Started training for 10 epochs (0/9)\n",
      "\n",
      "Train epoch 0: 100%|██████████| 9/9 [35:21<00:00, 235.76s/it, PPYoloELoss/loss=4.12, PPYoloELoss/loss_cls=2.38, PPYoloELoss/loss_dfl=0.837, PPYoloELoss/loss_iou=0.908, gpu_mem=0]\n",
      "Validating: 100%|██████████| 9/9 [06:38<00:00, 44.26s/it]\n",
      "[2024-01-08 19:29:51] INFO - base_sg_logger.py - Checkpoint saved in checkpoints\\Project\\RUN_20240108_184729_542040\\ckpt_best.pth\n",
      "[2024-01-08 19:29:51] INFO - sg_trainer.py - Best checkpoint overriden: validation mAP@0.50: 1.9918717953260057e-05\n"
     ]
    },
    {
     "name": "stdout",
     "output_type": "stream",
     "text": [
      "===========================================================\n",
      "SUMMARY OF EPOCH 0\n",
      "├── Train\n",
      "│   ├── Ppyoloeloss/loss_cls = 2.3789\n",
      "│   ├── Ppyoloeloss/loss_iou = 0.9081\n",
      "│   ├── Ppyoloeloss/loss_dfl = 0.837\n",
      "│   └── Ppyoloeloss/loss = 4.1239\n",
      "└── Validation\n",
      "    ├── Ppyoloeloss/loss_cls = 2.8025\n",
      "    ├── Ppyoloeloss/loss_iou = 0.6772\n",
      "    ├── Ppyoloeloss/loss_dfl = 0.7199\n",
      "    ├── Ppyoloeloss/loss = 4.1997\n",
      "    ├── Precision@0.50 = 0.0\n",
      "    ├── Recall@0.50 = 0.0\n",
      "    ├── Map@0.50 = 0.0\n",
      "    └── F1@0.50 = 0.0\n",
      "\n",
      "===========================================================\n"
     ]
    },
    {
     "name": "stderr",
     "output_type": "stream",
     "text": [
      "Train epoch 1: 100%|██████████| 9/9 [30:28<00:00, 203.20s/it, PPYoloELoss/loss=3.07, PPYoloELoss/loss_cls=1.73, PPYoloELoss/loss_dfl=0.619, PPYoloELoss/loss_iou=0.721, gpu_mem=0]\n",
      "Validating epoch 1: 100%|██████████| 9/9 [03:26<00:00, 22.92s/it]\n",
      "[2024-01-08 20:04:08] INFO - base_sg_logger.py - Checkpoint saved in checkpoints\\Project\\RUN_20240108_184729_542040\\ckpt_best.pth\n",
      "[2024-01-08 20:04:08] INFO - sg_trainer.py - Best checkpoint overriden: validation mAP@0.50: 0.4026811122894287\n"
     ]
    },
    {
     "name": "stdout",
     "output_type": "stream",
     "text": [
      "===========================================================\n",
      "SUMMARY OF EPOCH 1\n",
      "├── Train\n",
      "│   ├── Ppyoloeloss/loss_cls = 1.7268\n",
      "│   │   ├── Epoch N-1      = 2.3789 (\u001b[32m↘ -0.6522\u001b[0m)\n",
      "│   │   └── Best until now = 2.3789 (\u001b[32m↘ -0.6522\u001b[0m)\n",
      "│   ├── Ppyoloeloss/loss_iou = 0.7208\n",
      "│   │   ├── Epoch N-1      = 0.9081 (\u001b[32m↘ -0.1873\u001b[0m)\n",
      "│   │   └── Best until now = 0.9081 (\u001b[32m↘ -0.1873\u001b[0m)\n",
      "│   ├── Ppyoloeloss/loss_dfl = 0.6188\n",
      "│   │   ├── Epoch N-1      = 0.837  (\u001b[32m↘ -0.2182\u001b[0m)\n",
      "│   │   └── Best until now = 0.837  (\u001b[32m↘ -0.2182\u001b[0m)\n",
      "│   └── Ppyoloeloss/loss = 3.0664\n",
      "│       ├── Epoch N-1      = 4.1239 (\u001b[32m↘ -1.0576\u001b[0m)\n",
      "│       └── Best until now = 4.1239 (\u001b[32m↘ -1.0576\u001b[0m)\n",
      "└── Validation\n",
      "    ├── Ppyoloeloss/loss_cls = 2.5469\n",
      "    │   ├── Epoch N-1      = 2.8025 (\u001b[32m↘ -0.2557\u001b[0m)\n",
      "    │   └── Best until now = 2.8025 (\u001b[32m↘ -0.2557\u001b[0m)\n",
      "    ├── Ppyoloeloss/loss_iou = 0.6065\n",
      "    │   ├── Epoch N-1      = 0.6772 (\u001b[32m↘ -0.0707\u001b[0m)\n",
      "    │   └── Best until now = 0.6772 (\u001b[32m↘ -0.0707\u001b[0m)\n",
      "    ├── Ppyoloeloss/loss_dfl = 0.5244\n",
      "    │   ├── Epoch N-1      = 0.7199 (\u001b[32m↘ -0.1955\u001b[0m)\n",
      "    │   └── Best until now = 0.7199 (\u001b[32m↘ -0.1955\u001b[0m)\n",
      "    ├── Ppyoloeloss/loss = 3.6778\n",
      "    │   ├── Epoch N-1      = 4.1997 (\u001b[32m↘ -0.5219\u001b[0m)\n",
      "    │   └── Best until now = 4.1997 (\u001b[32m↘ -0.5219\u001b[0m)\n",
      "    ├── Precision@0.50 = 0.504\n",
      "    │   ├── Epoch N-1      = 0.0    (\u001b[32m↗ 0.504\u001b[0m)\n",
      "    │   └── Best until now = 0.0    (\u001b[32m↗ 0.504\u001b[0m)\n",
      "    ├── Recall@0.50 = 0.4434\n",
      "    │   ├── Epoch N-1      = 0.0    (\u001b[32m↗ 0.4434\u001b[0m)\n",
      "    │   └── Best until now = 0.0    (\u001b[32m↗ 0.4434\u001b[0m)\n",
      "    ├── Map@0.50 = 0.4027\n",
      "    │   ├── Epoch N-1      = 0.0    (\u001b[32m↗ 0.4027\u001b[0m)\n",
      "    │   └── Best until now = 0.0    (\u001b[32m↗ 0.4027\u001b[0m)\n",
      "    └── F1@0.50 = 0.0869\n",
      "        ├── Epoch N-1      = 0.0    (\u001b[32m↗ 0.0869\u001b[0m)\n",
      "        └── Best until now = 0.0    (\u001b[32m↗ 0.0869\u001b[0m)\n",
      "\n",
      "===========================================================\n"
     ]
    },
    {
     "name": "stderr",
     "output_type": "stream",
     "text": [
      "Train epoch 2: 100%|██████████| 9/9 [23:58<00:00, 159.88s/it, PPYoloELoss/loss=2.09, PPYoloELoss/loss_cls=1.01, PPYoloELoss/loss_dfl=0.485, PPYoloELoss/loss_iou=0.596, gpu_mem=0]\n",
      "Validating epoch 2: 100%|██████████| 9/9 [03:46<00:00, 25.14s/it]\n"
     ]
    },
    {
     "name": "stdout",
     "output_type": "stream",
     "text": [
      "===========================================================\n",
      "SUMMARY OF EPOCH 2\n",
      "├── Train\n",
      "│   ├── Ppyoloeloss/loss_cls = 1.0089\n",
      "│   │   ├── Epoch N-1      = 1.7268 (\u001b[32m↘ -0.7179\u001b[0m)\n",
      "│   │   └── Best until now = 1.7268 (\u001b[32m↘ -0.7179\u001b[0m)\n",
      "│   ├── Ppyoloeloss/loss_iou = 0.5964\n",
      "│   │   ├── Epoch N-1      = 0.7208 (\u001b[32m↘ -0.1245\u001b[0m)\n",
      "│   │   └── Best until now = 0.7208 (\u001b[32m↘ -0.1245\u001b[0m)\n",
      "│   ├── Ppyoloeloss/loss_dfl = 0.4854\n",
      "│   │   ├── Epoch N-1      = 0.6188 (\u001b[32m↘ -0.1334\u001b[0m)\n",
      "│   │   └── Best until now = 0.6188 (\u001b[32m↘ -0.1334\u001b[0m)\n",
      "│   └── Ppyoloeloss/loss = 2.0907\n",
      "│       ├── Epoch N-1      = 3.0664 (\u001b[32m↘ -0.9757\u001b[0m)\n",
      "│       └── Best until now = 3.0664 (\u001b[32m↘ -0.9757\u001b[0m)\n",
      "└── Validation\n",
      "    ├── Ppyoloeloss/loss_cls = 21.7411\n",
      "    │   ├── Epoch N-1      = 2.5469 (\u001b[31m↗ 19.1942\u001b[0m)\n",
      "    │   └── Best until now = 2.5469 (\u001b[31m↗ 19.1942\u001b[0m)\n",
      "    ├── Ppyoloeloss/loss_iou = 0.5574\n",
      "    │   ├── Epoch N-1      = 0.6065 (\u001b[32m↘ -0.0491\u001b[0m)\n",
      "    │   └── Best until now = 0.6065 (\u001b[32m↘ -0.0491\u001b[0m)\n",
      "    ├── Ppyoloeloss/loss_dfl = 0.5258\n",
      "    │   ├── Epoch N-1      = 0.5244 (\u001b[31m↗ 0.0014\u001b[0m)\n",
      "    │   └── Best until now = 0.5244 (\u001b[31m↗ 0.0014\u001b[0m)\n",
      "    ├── Ppyoloeloss/loss = 22.8243\n",
      "    │   ├── Epoch N-1      = 3.6778 (\u001b[31m↗ 19.1465\u001b[0m)\n",
      "    │   └── Best until now = 3.6778 (\u001b[31m↗ 19.1465\u001b[0m)\n",
      "    ├── Precision@0.50 = 0.0036\n",
      "    │   ├── Epoch N-1      = 0.504  (\u001b[31m↘ -0.5005\u001b[0m)\n",
      "    │   └── Best until now = 0.504  (\u001b[31m↘ -0.5005\u001b[0m)\n",
      "    ├── Recall@0.50 = 0.6916\n",
      "    │   ├── Epoch N-1      = 0.4434 (\u001b[32m↗ 0.2482\u001b[0m)\n",
      "    │   └── Best until now = 0.4434 (\u001b[32m↗ 0.2482\u001b[0m)\n",
      "    ├── Map@0.50 = 0.3682\n",
      "    │   ├── Epoch N-1      = 0.4027 (\u001b[31m↘ -0.0345\u001b[0m)\n",
      "    │   └── Best until now = 0.4027 (\u001b[31m↘ -0.0345\u001b[0m)\n",
      "    └── F1@0.50 = 0.0071\n",
      "        ├── Epoch N-1      = 0.0869 (\u001b[31m↘ -0.0798\u001b[0m)\n",
      "        └── Best until now = 0.0869 (\u001b[31m↘ -0.0798\u001b[0m)\n",
      "\n",
      "===========================================================\n"
     ]
    },
    {
     "name": "stderr",
     "output_type": "stream",
     "text": [
      "Train epoch 3: 100%|██████████| 9/9 [27:54<00:00, 186.01s/it, PPYoloELoss/loss=2.04, PPYoloELoss/loss_cls=0.955, PPYoloELoss/loss_dfl=0.502, PPYoloELoss/loss_iou=0.58, gpu_mem=0] \n",
      "Validating epoch 3: 100%|██████████| 9/9 [03:21<00:00, 22.42s/it]\n"
     ]
    },
    {
     "name": "stdout",
     "output_type": "stream",
     "text": [
      "===========================================================\n",
      "SUMMARY OF EPOCH 3\n",
      "├── Train\n",
      "│   ├── Ppyoloeloss/loss_cls = 0.9553\n",
      "│   │   ├── Epoch N-1      = 1.0089 (\u001b[32m↘ -0.0536\u001b[0m)\n",
      "│   │   └── Best until now = 1.0089 (\u001b[32m↘ -0.0536\u001b[0m)\n",
      "│   ├── Ppyoloeloss/loss_iou = 0.5798\n",
      "│   │   ├── Epoch N-1      = 0.5964 (\u001b[32m↘ -0.0165\u001b[0m)\n",
      "│   │   └── Best until now = 0.5964 (\u001b[32m↘ -0.0165\u001b[0m)\n",
      "│   ├── Ppyoloeloss/loss_dfl = 0.5023\n",
      "│   │   ├── Epoch N-1      = 0.4854 (\u001b[31m↗ 0.0169\u001b[0m)\n",
      "│   │   └── Best until now = 0.4854 (\u001b[31m↗ 0.0169\u001b[0m)\n",
      "│   └── Ppyoloeloss/loss = 2.0374\n",
      "│       ├── Epoch N-1      = 2.0907 (\u001b[32m↘ -0.0533\u001b[0m)\n",
      "│       └── Best until now = 2.0907 (\u001b[32m↘ -0.0533\u001b[0m)\n",
      "└── Validation\n",
      "    ├── Ppyoloeloss/loss_cls = 38.6095\n",
      "    │   ├── Epoch N-1      = 21.7411 (\u001b[31m↗ 16.8684\u001b[0m)\n",
      "    │   └── Best until now = 2.5469 (\u001b[31m↗ 36.0626\u001b[0m)\n",
      "    ├── Ppyoloeloss/loss_iou = 0.6538\n",
      "    │   ├── Epoch N-1      = 0.5574 (\u001b[31m↗ 0.0963\u001b[0m)\n",
      "    │   └── Best until now = 0.5574 (\u001b[31m↗ 0.0963\u001b[0m)\n",
      "    ├── Ppyoloeloss/loss_dfl = 0.7084\n",
      "    │   ├── Epoch N-1      = 0.5258 (\u001b[31m↗ 0.1826\u001b[0m)\n",
      "    │   └── Best until now = 0.5244 (\u001b[31m↗ 0.184\u001b[0m)\n",
      "    ├── Ppyoloeloss/loss = 39.9717\n",
      "    │   ├── Epoch N-1      = 22.8243 (\u001b[31m↗ 17.1474\u001b[0m)\n",
      "    │   └── Best until now = 3.6778 (\u001b[31m↗ 36.2939\u001b[0m)\n",
      "    ├── Precision@0.50 = 0.004\n",
      "    │   ├── Epoch N-1      = 0.0036 (\u001b[32m↗ 0.0005\u001b[0m)\n",
      "    │   └── Best until now = 0.504  (\u001b[31m↘ -0.5\u001b[0m)\n",
      "    ├── Recall@0.50 = 0.6373\n",
      "    │   ├── Epoch N-1      = 0.6916 (\u001b[31m↘ -0.0543\u001b[0m)\n",
      "    │   └── Best until now = 0.6916 (\u001b[31m↘ -0.0543\u001b[0m)\n",
      "    ├── Map@0.50 = 0.1962\n",
      "    │   ├── Epoch N-1      = 0.3682 (\u001b[31m↘ -0.1719\u001b[0m)\n",
      "    │   └── Best until now = 0.4027 (\u001b[31m↘ -0.2064\u001b[0m)\n",
      "    └── F1@0.50 = 0.008\n",
      "        ├── Epoch N-1      = 0.0071 (\u001b[32m↗ 0.0009\u001b[0m)\n",
      "        └── Best until now = 0.0869 (\u001b[31m↘ -0.0789\u001b[0m)\n",
      "\n",
      "===========================================================\n"
     ]
    },
    {
     "name": "stderr",
     "output_type": "stream",
     "text": [
      "Train epoch 4: 100%|██████████| 9/9 [21:00<00:00, 140.03s/it, PPYoloELoss/loss=1.99, PPYoloELoss/loss_cls=0.906, PPYoloELoss/loss_dfl=0.513, PPYoloELoss/loss_iou=0.575, gpu_mem=0]\n",
      "Validating epoch 4: 100%|██████████| 9/9 [03:04<00:00, 20.54s/it]\n"
     ]
    },
    {
     "name": "stdout",
     "output_type": "stream",
     "text": [
      "===========================================================\n",
      "SUMMARY OF EPOCH 4\n",
      "├── Train\n",
      "│   ├── Ppyoloeloss/loss_cls = 0.9058\n",
      "│   │   ├── Epoch N-1      = 0.9553 (\u001b[32m↘ -0.0495\u001b[0m)\n",
      "│   │   └── Best until now = 0.9553 (\u001b[32m↘ -0.0495\u001b[0m)\n",
      "│   ├── Ppyoloeloss/loss_iou = 0.5749\n",
      "│   │   ├── Epoch N-1      = 0.5798 (\u001b[32m↘ -0.0049\u001b[0m)\n",
      "│   │   └── Best until now = 0.5798 (\u001b[32m↘ -0.0049\u001b[0m)\n",
      "│   ├── Ppyoloeloss/loss_dfl = 0.5126\n",
      "│   │   ├── Epoch N-1      = 0.5023 (\u001b[31m↗ 0.0103\u001b[0m)\n",
      "│   │   └── Best until now = 0.4854 (\u001b[31m↗ 0.0272\u001b[0m)\n",
      "│   └── Ppyoloeloss/loss = 1.9933\n",
      "│       ├── Epoch N-1      = 2.0374 (\u001b[32m↘ -0.0441\u001b[0m)\n",
      "│       └── Best until now = 2.0374 (\u001b[32m↘ -0.0441\u001b[0m)\n",
      "└── Validation\n",
      "    ├── Ppyoloeloss/loss_cls = 161.529\n",
      "    │   ├── Epoch N-1      = 38.6095 (\u001b[31m↗ 122.9194\u001b[0m)\n",
      "    │   └── Best until now = 2.5469 (\u001b[31m↗ 158.9821\u001b[0m)\n",
      "    ├── Ppyoloeloss/loss_iou = 0.651\n",
      "    │   ├── Epoch N-1      = 0.6538 (\u001b[32m↘ -0.0028\u001b[0m)\n",
      "    │   └── Best until now = 0.5574 (\u001b[31m↗ 0.0935\u001b[0m)\n",
      "    ├── Ppyoloeloss/loss_dfl = 0.7514\n",
      "    │   ├── Epoch N-1      = 0.7084 (\u001b[31m↗ 0.043\u001b[0m)\n",
      "    │   └── Best until now = 0.5244 (\u001b[31m↗ 0.2269\u001b[0m)\n",
      "    ├── Ppyoloeloss/loss = 162.9313\n",
      "    │   ├── Epoch N-1      = 39.9717 (\u001b[31m↗ 122.9596\u001b[0m)\n",
      "    │   └── Best until now = 3.6778 (\u001b[31m↗ 159.2535\u001b[0m)\n",
      "    ├── Precision@0.50 = 0.0131\n",
      "    │   ├── Epoch N-1      = 0.004  (\u001b[32m↗ 0.009\u001b[0m)\n",
      "    │   └── Best until now = 0.504  (\u001b[31m↘ -0.491\u001b[0m)\n",
      "    ├── Recall@0.50 = 0.5608\n",
      "    │   ├── Epoch N-1      = 0.6373 (\u001b[31m↘ -0.0765\u001b[0m)\n",
      "    │   └── Best until now = 0.6916 (\u001b[31m↘ -0.1308\u001b[0m)\n",
      "    ├── Map@0.50 = 0.0869\n",
      "    │   ├── Epoch N-1      = 0.1962 (\u001b[31m↘ -0.1093\u001b[0m)\n",
      "    │   └── Best until now = 0.4027 (\u001b[31m↘ -0.3158\u001b[0m)\n",
      "    └── F1@0.50 = 0.0249\n",
      "        ├── Epoch N-1      = 0.008  (\u001b[32m↗ 0.0168\u001b[0m)\n",
      "        └── Best until now = 0.0869 (\u001b[31m↘ -0.062\u001b[0m)\n",
      "\n",
      "===========================================================\n"
     ]
    },
    {
     "name": "stderr",
     "output_type": "stream",
     "text": [
      "Train epoch 5: 100%|██████████| 9/9 [23:28<00:00, 156.48s/it, PPYoloELoss/loss=1.9, PPYoloELoss/loss_cls=0.87, PPYoloELoss/loss_dfl=0.51, PPYoloELoss/loss_iou=0.522, gpu_mem=0]   \n",
      "Validating epoch 5: 100%|██████████| 9/9 [03:29<00:00, 23.31s/it]\n",
      "[2024-01-08 21:55:44] INFO - base_sg_logger.py - Checkpoint saved in checkpoints\\Project\\RUN_20240108_184729_542040\\ckpt_best.pth\n",
      "[2024-01-08 21:55:45] INFO - sg_trainer.py - Best checkpoint overriden: validation mAP@0.50: 0.642228364944458\n"
     ]
    },
    {
     "name": "stdout",
     "output_type": "stream",
     "text": [
      "===========================================================\n",
      "SUMMARY OF EPOCH 5\n",
      "├── Train\n",
      "│   ├── Ppyoloeloss/loss_cls = 0.8704\n",
      "│   │   ├── Epoch N-1      = 0.9058 (\u001b[32m↘ -0.0354\u001b[0m)\n",
      "│   │   └── Best until now = 0.9058 (\u001b[32m↘ -0.0354\u001b[0m)\n",
      "│   ├── Ppyoloeloss/loss_iou = 0.5222\n",
      "│   │   ├── Epoch N-1      = 0.5749 (\u001b[32m↘ -0.0527\u001b[0m)\n",
      "│   │   └── Best until now = 0.5749 (\u001b[32m↘ -0.0527\u001b[0m)\n",
      "│   ├── Ppyoloeloss/loss_dfl = 0.5095\n",
      "│   │   ├── Epoch N-1      = 0.5126 (\u001b[32m↘ -0.003\u001b[0m)\n",
      "│   │   └── Best until now = 0.4854 (\u001b[31m↗ 0.0242\u001b[0m)\n",
      "│   └── Ppyoloeloss/loss = 1.9022\n",
      "│       ├── Epoch N-1      = 1.9933 (\u001b[32m↘ -0.0911\u001b[0m)\n",
      "│       └── Best until now = 1.9933 (\u001b[32m↘ -0.0911\u001b[0m)\n",
      "└── Validation\n",
      "    ├── Ppyoloeloss/loss_cls = 11.1585\n",
      "    │   ├── Epoch N-1      = 161.529 (\u001b[32m↘ -150.3704\u001b[0m)\n",
      "    │   └── Best until now = 2.5469 (\u001b[31m↗ 8.6116\u001b[0m)\n",
      "    ├── Ppyoloeloss/loss_iou = 0.4849\n",
      "    │   ├── Epoch N-1      = 0.651  (\u001b[32m↘ -0.166\u001b[0m)\n",
      "    │   └── Best until now = 0.5574 (\u001b[32m↘ -0.0725\u001b[0m)\n",
      "    ├── Ppyoloeloss/loss_dfl = 0.5614\n",
      "    │   ├── Epoch N-1      = 0.7514 (\u001b[32m↘ -0.1899\u001b[0m)\n",
      "    │   └── Best until now = 0.5244 (\u001b[31m↗ 0.037\u001b[0m)\n",
      "    ├── Ppyoloeloss/loss = 12.2048\n",
      "    │   ├── Epoch N-1      = 162.9313 (\u001b[32m↘ -150.7264\u001b[0m)\n",
      "    │   └── Best until now = 3.6778 (\u001b[31m↗ 8.5271\u001b[0m)\n",
      "    ├── Precision@0.50 = 0.0061\n",
      "    │   ├── Epoch N-1      = 0.0131 (\u001b[31m↘ -0.007\u001b[0m)\n",
      "    │   └── Best until now = 0.504  (\u001b[31m↘ -0.4979\u001b[0m)\n",
      "    ├── Recall@0.50 = 0.909\n",
      "    │   ├── Epoch N-1      = 0.5608 (\u001b[32m↗ 0.3482\u001b[0m)\n",
      "    │   └── Best until now = 0.6916 (\u001b[32m↗ 0.2173\u001b[0m)\n",
      "    ├── Map@0.50 = 0.6422\n",
      "    │   ├── Epoch N-1      = 0.0869 (\u001b[32m↗ 0.5553\u001b[0m)\n",
      "    │   └── Best until now = 0.4027 (\u001b[32m↗ 0.2395\u001b[0m)\n",
      "    └── F1@0.50 = 0.0121\n",
      "        ├── Epoch N-1      = 0.0249 (\u001b[31m↘ -0.0128\u001b[0m)\n",
      "        └── Best until now = 0.0869 (\u001b[31m↘ -0.0748\u001b[0m)\n",
      "\n",
      "===========================================================\n"
     ]
    },
    {
     "name": "stderr",
     "output_type": "stream",
     "text": [
      "Train epoch 6: 100%|██████████| 9/9 [20:58<00:00, 139.79s/it, PPYoloELoss/loss=1.83, PPYoloELoss/loss_cls=0.831, PPYoloELoss/loss_dfl=0.478, PPYoloELoss/loss_iou=0.518, gpu_mem=0]\n",
      "Validating epoch 6: 100%|██████████| 9/9 [03:10<00:00, 21.18s/it]\n",
      "[2024-01-08 22:20:22] INFO - base_sg_logger.py - Checkpoint saved in checkpoints\\Project\\RUN_20240108_184729_542040\\ckpt_best.pth\n",
      "[2024-01-08 22:20:22] INFO - sg_trainer.py - Best checkpoint overriden: validation mAP@0.50: 0.6446086764335632\n"
     ]
    },
    {
     "name": "stdout",
     "output_type": "stream",
     "text": [
      "===========================================================\n",
      "SUMMARY OF EPOCH 6\n",
      "├── Train\n",
      "│   ├── Ppyoloeloss/loss_cls = 0.8312\n",
      "│   │   ├── Epoch N-1      = 0.8704 (\u001b[32m↘ -0.0393\u001b[0m)\n",
      "│   │   └── Best until now = 0.8704 (\u001b[32m↘ -0.0393\u001b[0m)\n",
      "│   ├── Ppyoloeloss/loss_iou = 0.5185\n",
      "│   │   ├── Epoch N-1      = 0.5222 (\u001b[32m↘ -0.0037\u001b[0m)\n",
      "│   │   └── Best until now = 0.5222 (\u001b[32m↘ -0.0037\u001b[0m)\n",
      "│   ├── Ppyoloeloss/loss_dfl = 0.4777\n",
      "│   │   ├── Epoch N-1      = 0.5095 (\u001b[32m↘ -0.0318\u001b[0m)\n",
      "│   │   └── Best until now = 0.4854 (\u001b[32m↘ -0.0077\u001b[0m)\n",
      "│   └── Ppyoloeloss/loss = 1.8273\n",
      "│       ├── Epoch N-1      = 1.9022 (\u001b[32m↘ -0.0748\u001b[0m)\n",
      "│       └── Best until now = 1.9022 (\u001b[32m↘ -0.0748\u001b[0m)\n",
      "└── Validation\n",
      "    ├── Ppyoloeloss/loss_cls = 7.4979\n",
      "    │   ├── Epoch N-1      = 11.1585 (\u001b[32m↘ -3.6606\u001b[0m)\n",
      "    │   └── Best until now = 2.5469 (\u001b[31m↗ 4.9511\u001b[0m)\n",
      "    ├── Ppyoloeloss/loss_iou = 0.437\n",
      "    │   ├── Epoch N-1      = 0.4849 (\u001b[32m↘ -0.0479\u001b[0m)\n",
      "    │   └── Best until now = 0.4849 (\u001b[32m↘ -0.0479\u001b[0m)\n",
      "    ├── Ppyoloeloss/loss_dfl = 0.4793\n",
      "    │   ├── Epoch N-1      = 0.5614 (\u001b[32m↘ -0.0821\u001b[0m)\n",
      "    │   └── Best until now = 0.5244 (\u001b[32m↘ -0.0452\u001b[0m)\n",
      "    ├── Ppyoloeloss/loss = 8.4143\n",
      "    │   ├── Epoch N-1      = 12.2048 (\u001b[32m↘ -3.7906\u001b[0m)\n",
      "    │   └── Best until now = 3.6778 (\u001b[31m↗ 4.7365\u001b[0m)\n",
      "    ├── Precision@0.50 = 0.0044\n",
      "    │   ├── Epoch N-1      = 0.0061 (\u001b[31m↘ -0.0017\u001b[0m)\n",
      "    │   └── Best until now = 0.504  (\u001b[31m↘ -0.4996\u001b[0m)\n",
      "    ├── Recall@0.50 = 0.9444\n",
      "    │   ├── Epoch N-1      = 0.909  (\u001b[32m↗ 0.0355\u001b[0m)\n",
      "    │   └── Best until now = 0.909  (\u001b[32m↗ 0.0355\u001b[0m)\n",
      "    ├── Map@0.50 = 0.6446\n",
      "    │   ├── Epoch N-1      = 0.6422 (\u001b[32m↗ 0.0024\u001b[0m)\n",
      "    │   └── Best until now = 0.6422 (\u001b[32m↗ 0.0024\u001b[0m)\n",
      "    └── F1@0.50 = 0.0088\n",
      "        ├── Epoch N-1      = 0.0121 (\u001b[31m↘ -0.0033\u001b[0m)\n",
      "        └── Best until now = 0.0869 (\u001b[31m↘ -0.0781\u001b[0m)\n",
      "\n",
      "===========================================================\n"
     ]
    },
    {
     "name": "stderr",
     "output_type": "stream",
     "text": [
      "Train epoch 7: 100%|██████████| 9/9 [22:23<00:00, 149.24s/it, PPYoloELoss/loss=1.75, PPYoloELoss/loss_cls=0.784, PPYoloELoss/loss_dfl=0.464, PPYoloELoss/loss_iou=0.497, gpu_mem=0]\n",
      "Validating epoch 7: 100%|██████████| 9/9 [03:02<00:00, 20.26s/it]\n",
      "[2024-01-08 22:46:23] INFO - base_sg_logger.py - Checkpoint saved in checkpoints\\Project\\RUN_20240108_184729_542040\\ckpt_best.pth\n",
      "[2024-01-08 22:46:23] INFO - sg_trainer.py - Best checkpoint overriden: validation mAP@0.50: 0.6819252967834473\n"
     ]
    },
    {
     "name": "stdout",
     "output_type": "stream",
     "text": [
      "===========================================================\n",
      "SUMMARY OF EPOCH 7\n",
      "├── Train\n",
      "│   ├── Ppyoloeloss/loss_cls = 0.784\n",
      "│   │   ├── Epoch N-1      = 0.8312 (\u001b[32m↘ -0.0472\u001b[0m)\n",
      "│   │   └── Best until now = 0.8312 (\u001b[32m↘ -0.0472\u001b[0m)\n",
      "│   ├── Ppyoloeloss/loss_iou = 0.4968\n",
      "│   │   ├── Epoch N-1      = 0.5185 (\u001b[32m↘ -0.0216\u001b[0m)\n",
      "│   │   └── Best until now = 0.5185 (\u001b[32m↘ -0.0216\u001b[0m)\n",
      "│   ├── Ppyoloeloss/loss_dfl = 0.4643\n",
      "│   │   ├── Epoch N-1      = 0.4777 (\u001b[32m↘ -0.0134\u001b[0m)\n",
      "│   │   └── Best until now = 0.4777 (\u001b[32m↘ -0.0134\u001b[0m)\n",
      "│   └── Ppyoloeloss/loss = 1.7452\n",
      "│       ├── Epoch N-1      = 1.8273 (\u001b[32m↘ -0.0822\u001b[0m)\n",
      "│       └── Best until now = 1.8273 (\u001b[32m↘ -0.0822\u001b[0m)\n",
      "└── Validation\n",
      "    ├── Ppyoloeloss/loss_cls = 2.6827\n",
      "    │   ├── Epoch N-1      = 7.4979 (\u001b[32m↘ -4.8152\u001b[0m)\n",
      "    │   └── Best until now = 2.5469 (\u001b[31m↗ 0.1359\u001b[0m)\n",
      "    ├── Ppyoloeloss/loss_iou = 0.4268\n",
      "    │   ├── Epoch N-1      = 0.437  (\u001b[32m↘ -0.0103\u001b[0m)\n",
      "    │   └── Best until now = 0.437  (\u001b[32m↘ -0.0103\u001b[0m)\n",
      "    ├── Ppyoloeloss/loss_dfl = 0.4426\n",
      "    │   ├── Epoch N-1      = 0.4793 (\u001b[32m↘ -0.0367\u001b[0m)\n",
      "    │   └── Best until now = 0.4793 (\u001b[32m↘ -0.0367\u001b[0m)\n",
      "    ├── Ppyoloeloss/loss = 3.5521\n",
      "    │   ├── Epoch N-1      = 8.4143 (\u001b[32m↘ -4.8621\u001b[0m)\n",
      "    │   └── Best until now = 3.6778 (\u001b[32m↘ -0.1257\u001b[0m)\n",
      "    ├── Precision@0.50 = 0.0042\n",
      "    │   ├── Epoch N-1      = 0.0044 (\u001b[31m↘ -0.0002\u001b[0m)\n",
      "    │   └── Best until now = 0.504  (\u001b[31m↘ -0.4998\u001b[0m)\n",
      "    ├── Recall@0.50 = 0.9394\n",
      "    │   ├── Epoch N-1      = 0.9444 (\u001b[31m↘ -0.0051\u001b[0m)\n",
      "    │   └── Best until now = 0.9444 (\u001b[31m↘ -0.0051\u001b[0m)\n",
      "    ├── Map@0.50 = 0.6819\n",
      "    │   ├── Epoch N-1      = 0.6446 (\u001b[32m↗ 0.0373\u001b[0m)\n",
      "    │   └── Best until now = 0.6446 (\u001b[32m↗ 0.0373\u001b[0m)\n",
      "    └── F1@0.50 = 0.0084\n",
      "        ├── Epoch N-1      = 0.0088 (\u001b[31m↘ -0.0003\u001b[0m)\n",
      "        └── Best until now = 0.0869 (\u001b[31m↘ -0.0785\u001b[0m)\n",
      "\n",
      "===========================================================\n"
     ]
    },
    {
     "name": "stderr",
     "output_type": "stream",
     "text": [
      "Train epoch 8: 100%|██████████| 9/9 [20:21<00:00, 135.76s/it, PPYoloELoss/loss=1.7, PPYoloELoss/loss_cls=0.776, PPYoloELoss/loss_dfl=0.455, PPYoloELoss/loss_iou=0.471, gpu_mem=0] \n",
      "Validating epoch 8: 100%|██████████| 9/9 [03:02<00:00, 20.28s/it]\n",
      "[2024-01-08 23:10:14] INFO - base_sg_logger.py - Checkpoint saved in checkpoints\\Project\\RUN_20240108_184729_542040\\ckpt_best.pth\n",
      "[2024-01-08 23:10:14] INFO - sg_trainer.py - Best checkpoint overriden: validation mAP@0.50: 0.7183704376220703\n"
     ]
    },
    {
     "name": "stdout",
     "output_type": "stream",
     "text": [
      "===========================================================\n",
      "SUMMARY OF EPOCH 8\n",
      "├── Train\n",
      "│   ├── Ppyoloeloss/loss_cls = 0.7756\n",
      "│   │   ├── Epoch N-1      = 0.784  (\u001b[32m↘ -0.0084\u001b[0m)\n",
      "│   │   └── Best until now = 0.784  (\u001b[32m↘ -0.0084\u001b[0m)\n",
      "│   ├── Ppyoloeloss/loss_iou = 0.4715\n",
      "│   │   ├── Epoch N-1      = 0.4968 (\u001b[32m↘ -0.0253\u001b[0m)\n",
      "│   │   └── Best until now = 0.4968 (\u001b[32m↘ -0.0253\u001b[0m)\n",
      "│   ├── Ppyoloeloss/loss_dfl = 0.455\n",
      "│   │   ├── Epoch N-1      = 0.4643 (\u001b[32m↘ -0.0093\u001b[0m)\n",
      "│   │   └── Best until now = 0.4643 (\u001b[32m↘ -0.0093\u001b[0m)\n",
      "│   └── Ppyoloeloss/loss = 1.7021\n",
      "│       ├── Epoch N-1      = 1.7452 (\u001b[32m↘ -0.043\u001b[0m)\n",
      "│       └── Best until now = 1.7452 (\u001b[32m↘ -0.043\u001b[0m)\n",
      "└── Validation\n",
      "    ├── Ppyoloeloss/loss_cls = 1.8502\n",
      "    │   ├── Epoch N-1      = 2.6827 (\u001b[32m↘ -0.8325\u001b[0m)\n",
      "    │   └── Best until now = 2.5469 (\u001b[32m↘ -0.6967\u001b[0m)\n",
      "    ├── Ppyoloeloss/loss_iou = 0.4174\n",
      "    │   ├── Epoch N-1      = 0.4268 (\u001b[32m↘ -0.0094\u001b[0m)\n",
      "    │   └── Best until now = 0.4268 (\u001b[32m↘ -0.0094\u001b[0m)\n",
      "    ├── Ppyoloeloss/loss_dfl = 0.4293\n",
      "    │   ├── Epoch N-1      = 0.4426 (\u001b[32m↘ -0.0133\u001b[0m)\n",
      "    │   └── Best until now = 0.4426 (\u001b[32m↘ -0.0133\u001b[0m)\n",
      "    ├── Ppyoloeloss/loss = 2.6969\n",
      "    │   ├── Epoch N-1      = 3.5521 (\u001b[32m↘ -0.8552\u001b[0m)\n",
      "    │   └── Best until now = 3.5521 (\u001b[32m↘ -0.8552\u001b[0m)\n",
      "    ├── Precision@0.50 = 0.0043\n",
      "    │   ├── Epoch N-1      = 0.0042 (\u001b[32m↗ 0.0001\u001b[0m)\n",
      "    │   └── Best until now = 0.504  (\u001b[31m↘ -0.4997\u001b[0m)\n",
      "    ├── Recall@0.50 = 0.9474\n",
      "    │   ├── Epoch N-1      = 0.9394 (\u001b[32m↗ 0.008\u001b[0m)\n",
      "    │   └── Best until now = 0.9444 (\u001b[32m↗ 0.0029\u001b[0m)\n",
      "    ├── Map@0.50 = 0.7184\n",
      "    │   ├── Epoch N-1      = 0.6819 (\u001b[32m↗ 0.0364\u001b[0m)\n",
      "    │   └── Best until now = 0.6819 (\u001b[32m↗ 0.0364\u001b[0m)\n",
      "    └── F1@0.50 = 0.0086\n",
      "        ├── Epoch N-1      = 0.0084 (\u001b[32m↗ 0.0001\u001b[0m)\n",
      "        └── Best until now = 0.0869 (\u001b[31m↘ -0.0783\u001b[0m)\n",
      "\n",
      "===========================================================\n"
     ]
    },
    {
     "name": "stderr",
     "output_type": "stream",
     "text": [
      "Train epoch 9: 100%|██████████| 9/9 [19:35<00:00, 130.60s/it, PPYoloELoss/loss=1.69, PPYoloELoss/loss_cls=0.762, PPYoloELoss/loss_dfl=0.454, PPYoloELoss/loss_iou=0.478, gpu_mem=0]\n",
      "Validating epoch 9: 100%|██████████| 9/9 [03:01<00:00, 20.17s/it]\n",
      "[2024-01-08 23:33:17] INFO - base_sg_logger.py - Checkpoint saved in checkpoints\\Project\\RUN_20240108_184729_542040\\ckpt_best.pth\n",
      "[2024-01-08 23:33:17] INFO - sg_trainer.py - Best checkpoint overriden: validation mAP@0.50: 0.7298129796981812\n"
     ]
    },
    {
     "name": "stdout",
     "output_type": "stream",
     "text": [
      "===========================================================\n",
      "SUMMARY OF EPOCH 9\n",
      "├── Train\n",
      "│   ├── Ppyoloeloss/loss_cls = 0.7621\n",
      "│   │   ├── Epoch N-1      = 0.7756 (\u001b[32m↘ -0.0135\u001b[0m)\n",
      "│   │   └── Best until now = 0.7756 (\u001b[32m↘ -0.0135\u001b[0m)\n",
      "│   ├── Ppyoloeloss/loss_iou = 0.4783\n",
      "│   │   ├── Epoch N-1      = 0.4715 (\u001b[31m↗ 0.0068\u001b[0m)\n",
      "│   │   └── Best until now = 0.4715 (\u001b[31m↗ 0.0068\u001b[0m)\n",
      "│   ├── Ppyoloeloss/loss_dfl = 0.4538\n",
      "│   │   ├── Epoch N-1      = 0.455  (\u001b[32m↘ -0.0012\u001b[0m)\n",
      "│   │   └── Best until now = 0.455  (\u001b[32m↘ -0.0012\u001b[0m)\n",
      "│   └── Ppyoloeloss/loss = 1.6942\n",
      "│       ├── Epoch N-1      = 1.7021 (\u001b[32m↘ -0.0079\u001b[0m)\n",
      "│       └── Best until now = 1.7021 (\u001b[32m↘ -0.0079\u001b[0m)\n",
      "└── Validation\n",
      "    ├── Ppyoloeloss/loss_cls = 1.5286\n",
      "    │   ├── Epoch N-1      = 1.8502 (\u001b[32m↘ -0.3216\u001b[0m)\n",
      "    │   └── Best until now = 1.8502 (\u001b[32m↘ -0.3216\u001b[0m)\n",
      "    ├── Ppyoloeloss/loss_iou = 0.4045\n",
      "    │   ├── Epoch N-1      = 0.4174 (\u001b[32m↘ -0.0129\u001b[0m)\n",
      "    │   └── Best until now = 0.4174 (\u001b[32m↘ -0.0129\u001b[0m)\n",
      "    ├── Ppyoloeloss/loss_dfl = 0.4194\n",
      "    │   ├── Epoch N-1      = 0.4293 (\u001b[32m↘ -0.0099\u001b[0m)\n",
      "    │   └── Best until now = 0.4293 (\u001b[32m↘ -0.0099\u001b[0m)\n",
      "    ├── Ppyoloeloss/loss = 2.3524\n",
      "    │   ├── Epoch N-1      = 2.6969 (\u001b[32m↘ -0.3444\u001b[0m)\n",
      "    │   └── Best until now = 2.6969 (\u001b[32m↘ -0.3444\u001b[0m)\n",
      "    ├── Precision@0.50 = 0.0042\n",
      "    │   ├── Epoch N-1      = 0.0043 (\u001b[31m↘ -0.0001\u001b[0m)\n",
      "    │   └── Best until now = 0.504  (\u001b[31m↘ -0.4998\u001b[0m)\n",
      "    ├── Recall@0.50 = 0.973\n",
      "    │   ├── Epoch N-1      = 0.9474 (\u001b[32m↗ 0.0256\u001b[0m)\n",
      "    │   └── Best until now = 0.9474 (\u001b[32m↗ 0.0256\u001b[0m)\n",
      "    ├── Map@0.50 = 0.7298\n",
      "    │   ├── Epoch N-1      = 0.7184 (\u001b[32m↗ 0.0114\u001b[0m)\n",
      "    │   └── Best until now = 0.7184 (\u001b[32m↗ 0.0114\u001b[0m)\n",
      "    └── F1@0.50 = 0.0084\n",
      "        ├── Epoch N-1      = 0.0086 (\u001b[31m↘ -0.0001\u001b[0m)\n",
      "        └── Best until now = 0.0869 (\u001b[31m↘ -0.0785\u001b[0m)\n",
      "\n",
      "===========================================================\n"
     ]
    },
    {
     "name": "stderr",
     "output_type": "stream",
     "text": [
      "[2024-01-08 23:33:40] INFO - sg_trainer.py - RUNNING ADDITIONAL TEST ON THE AVERAGED MODEL...\n",
      "Validating epoch 10: 100%|██████████| 9/9 [03:00<00:00, 20.07s/it]\n"
     ]
    }
   ],
   "source": [
    "trainer.train(model=model, training_params=train_params, train_loader=train_data, valid_loader=val_data)"
   ]
  },
  {
   "cell_type": "markdown",
   "metadata": {},
   "source": [
    "#### Charge best model"
   ]
  },
  {
   "cell_type": "code",
   "execution_count": 11,
   "metadata": {},
   "outputs": [
    {
     "name": "stderr",
     "output_type": "stream",
     "text": [
      "[2024-01-08 23:36:42] INFO - base_sg_logger.py - [CLEANUP] - Successfully stopped system monitoring process\n"
     ]
    },
    {
     "ename": "FileNotFoundError",
     "evalue": "Incorrect Checkpoint path: checkpoints\\Project\\average_model.pth (This should be an absolute path)",
     "output_type": "error",
     "traceback": [
      "\u001b[1;31m---------------------------------------------------------------------------\u001b[0m",
      "\u001b[1;31mFileNotFoundError\u001b[0m                         Traceback (most recent call last)",
      "Cell \u001b[1;32mIn [11], line 3\u001b[0m\n\u001b[0;32m      1\u001b[0m \u001b[38;5;28;01mimport\u001b[39;00m \u001b[38;5;21;01mos\u001b[39;00m\n\u001b[1;32m----> 3\u001b[0m avg_model \u001b[38;5;241m=\u001b[39m \u001b[43mmodels\u001b[49m\u001b[38;5;241;43m.\u001b[39;49m\u001b[43mget\u001b[49m\u001b[43m(\u001b[49m\u001b[43mconfig\u001b[49m\u001b[38;5;241;43m.\u001b[39;49m\u001b[43mMODEL_NAME\u001b[49m\u001b[43m,\u001b[49m\u001b[43m \u001b[49m\u001b[43mnum_classes\u001b[49m\u001b[38;5;241;43m=\u001b[39;49m\u001b[43mconfig\u001b[49m\u001b[38;5;241;43m.\u001b[39;49m\u001b[43mNUM_CLASSES\u001b[49m\u001b[43m,\u001b[49m\u001b[43m \u001b[49m\u001b[43mcheckpoint_path\u001b[49m\u001b[38;5;241;43m=\u001b[39;49m\u001b[43mos\u001b[49m\u001b[38;5;241;43m.\u001b[39;49m\u001b[43mpath\u001b[49m\u001b[38;5;241;43m.\u001b[39;49m\u001b[43mjoin\u001b[49m\u001b[43m(\u001b[49m\u001b[43mconfig\u001b[49m\u001b[38;5;241;43m.\u001b[39;49m\u001b[43mCHECKPOINT_DIR\u001b[49m\u001b[43m,\u001b[49m\u001b[43m \u001b[49m\u001b[43mconfig\u001b[49m\u001b[38;5;241;43m.\u001b[39;49m\u001b[43mEXPERIMENT_NAME\u001b[49m\u001b[43m,\u001b[49m\u001b[43m \u001b[49m\u001b[38;5;124;43m'\u001b[39;49m\u001b[38;5;124;43maverage_model.pth\u001b[39;49m\u001b[38;5;124;43m'\u001b[39;49m\u001b[43m)\u001b[49m\u001b[43m)\u001b[49m\n",
      "File \u001b[1;32m~\\AppData\\Roaming\\Python\\Python39\\site-packages\\super_gradients\\training\\models\\model_factory.py:235\u001b[0m, in \u001b[0;36mget\u001b[1;34m(model_name, arch_params, num_classes, strict_load, checkpoint_path, pretrained_weights, load_backbone, download_required_code, checkpoint_num_classes, num_input_channels)\u001b[0m\n\u001b[0;32m    232\u001b[0m     \u001b[38;5;28;01mraise\u001b[39;00m \u001b[38;5;167;01mValueError\u001b[39;00m(\u001b[38;5;124m\"\u001b[39m\u001b[38;5;124mPlease set checkpoint_path when load_backbone=True\u001b[39m\u001b[38;5;124m\"\u001b[39m)\n\u001b[0;32m    234\u001b[0m \u001b[38;5;28;01mif\u001b[39;00m checkpoint_path:\n\u001b[1;32m--> 235\u001b[0m     ckpt_entries \u001b[38;5;241m=\u001b[39m \u001b[43mread_ckpt_state_dict\u001b[49m\u001b[43m(\u001b[49m\u001b[43mckpt_path\u001b[49m\u001b[38;5;241;43m=\u001b[39;49m\u001b[43mcheckpoint_path\u001b[49m\u001b[43m)\u001b[49m\u001b[38;5;241m.\u001b[39mkeys()\n\u001b[0;32m    236\u001b[0m     load_processing \u001b[38;5;241m=\u001b[39m \u001b[38;5;124m\"\u001b[39m\u001b[38;5;124mprocessing_params\u001b[39m\u001b[38;5;124m\"\u001b[39m \u001b[38;5;129;01min\u001b[39;00m ckpt_entries\n\u001b[0;32m    237\u001b[0m     load_ema_as_net \u001b[38;5;241m=\u001b[39m \u001b[38;5;124m\"\u001b[39m\u001b[38;5;124mema_net\u001b[39m\u001b[38;5;124m\"\u001b[39m \u001b[38;5;129;01min\u001b[39;00m ckpt_entries\n",
      "File \u001b[1;32m~\\AppData\\Roaming\\Python\\Python39\\site-packages\\super_gradients\\training\\utils\\checkpoint_utils.py:183\u001b[0m, in \u001b[0;36mread_ckpt_state_dict\u001b[1;34m(ckpt_path, device)\u001b[0m\n\u001b[0;32m    181\u001b[0m \u001b[38;5;28;01melse\u001b[39;00m:\n\u001b[0;32m    182\u001b[0m     \u001b[38;5;28;01mif\u001b[39;00m \u001b[38;5;129;01mnot\u001b[39;00m os\u001b[38;5;241m.\u001b[39mpath\u001b[38;5;241m.\u001b[39mexists(ckpt_path):\n\u001b[1;32m--> 183\u001b[0m         \u001b[38;5;28;01mraise\u001b[39;00m \u001b[38;5;167;01mFileNotFoundError\u001b[39;00m(\u001b[38;5;124mf\u001b[39m\u001b[38;5;124m\"\u001b[39m\u001b[38;5;124mIncorrect Checkpoint path: \u001b[39m\u001b[38;5;132;01m{\u001b[39;00mckpt_path\u001b[38;5;132;01m}\u001b[39;00m\u001b[38;5;124m (This should be an absolute path)\u001b[39m\u001b[38;5;124m\"\u001b[39m)\n\u001b[0;32m    185\u001b[0m     state_dict \u001b[38;5;241m=\u001b[39m torch\u001b[38;5;241m.\u001b[39mload(ckpt_path, map_location\u001b[38;5;241m=\u001b[39mdevice)\n\u001b[0;32m    186\u001b[0m     \u001b[38;5;28;01mreturn\u001b[39;00m state_dict\n",
      "\u001b[1;31mFileNotFoundError\u001b[0m: Incorrect Checkpoint path: checkpoints\\Project\\average_model.pth (This should be an absolute path)"
     ]
    }
   ],
   "source": [
    "import os\n",
    "\n",
    "avg_model = models.get(config.MODEL_NAME, num_classes=config.NUM_CLASSES, checkpoint_path=os.path.join(config.CHECKPOINT_DIR, config.EXPERIMENT_NAME, 'average_model.pth'))"
   ]
  },
  {
   "cell_type": "markdown",
   "metadata": {},
   "source": [
    "#### Test with test_dataloaders"
   ]
  },
  {
   "cell_type": "code",
   "execution_count": null,
   "metadata": {},
   "outputs": [],
   "source": [
    "trainer.test(model=avg_model, test_loader=test_data, test_metrics_list=DetectionMetrics_050(score_thres=0.1, top_k_predictions=300, num_cls=config.NUM_CLASSES, normalize_targets=True, post_prediction_callback=PPYoloEPostPredictionCallback(score_threshold=0.01, nms_top_k=1000, max_predictions=300)))"
   ]
  },
  {
   "cell_type": "markdown",
   "metadata": {},
   "source": [
    "#### Visualization"
   ]
  },
  {
   "cell_type": "code",
   "execution_count": null,
   "metadata": {},
   "outputs": [],
   "source": [
    "import random\n",
    "import supervision as sv\n",
    "\n",
    "random.seed(10) # THE SEED CAN BE CHANGED"
   ]
  },
  {
   "cell_type": "markdown",
   "metadata": {},
   "source": [
    "##### Build dataset object"
   ]
  },
  {
   "cell_type": "code",
   "execution_count": null,
   "metadata": {},
   "outputs": [],
   "source": [
    "ds = sv.Dataset.from_yolo(images_directory_path=f\"{config.DATA_DIR}/test/images\", annotations_directory_path=f\"{config.DATA_DIR}/test/labels\", data_yaml_path=f\"{config.DATA_DIR}/data.yaml\", force_masks=False)\n",
    "predictions = {}\n",
    "CONFIDENCE_THRESHOLD = 0.5"
   ]
  },
  {
   "cell_type": "markdown",
   "metadata": {},
   "source": [
    "##### Inference"
   ]
  },
  {
   "cell_type": "code",
   "execution_count": null,
   "metadata": {},
   "outputs": [],
   "source": [
    "for image_name,image in ds.images.items():\n",
    "    result = list(avg_model.predict(image, conf=CONFIDENCE_THRESHOLD))[0]\n",
    "    detections = sv.Detections(xyxy=result.prediction.bboxes_xyxy, confidence=result.prediction.confidence, class_id=result.prediction.labels.astype(int))\n",
    "    predictions[image_name] = detections"
   ]
  },
  {
   "cell_type": "markdown",
   "metadata": {},
   "source": [
    "##### Plot annotations vs predictions"
   ]
  },
  {
   "cell_type": "code",
   "execution_count": null,
   "metadata": {},
   "outputs": [],
   "source": [
    "MAX_IMAGE_COUNT = 10\n",
    "n = min(MAX_IMAGE_COUNT, len(ds.images))\n",
    "\n",
    "keys = list(ds.images.keys())\n",
    "keys = random.sample(keys,n)\n",
    "\n",
    "box_annotator = sv.BoxAnnotator()\n",
    "\n",
    "images = []\n",
    "titles = []\n",
    "\n",
    "for key in keys:\n",
    "    frame_with_annotations = box_annotator.annotate(scene=ds.images[key].copy (), detections =  ds. annotations [key], skip_label=True)\n",
    "    images.append(frame_with_annotations)\n",
    "    titles.append('annotations')\n",
    "    frame_with_predictions = box_annotator. annotate( scene = ds.images[key].copy (),detections = predictions [key], skip_label=True)\n",
    "    images.append(frame_with_predictions)\n",
    "    titles.append('predictions')\n",
    "\n",
    "%matplotlib inline\n",
    "sv.plot_images_grid(images-images, titles-titles, grid_size=(n, 2), size=(2*4, n*4))"
   ]
  },
  {
   "cell_type": "markdown",
   "metadata": {},
   "source": [
    "#### Cross-validation\n",
    "When we first downloaded the data, it got separated into three folders: test, train, validate. For cross-validation, we will disregard the generated test and validate folders. Instead, we will use `KFold` method from `scikit-learn` ..."
   ]
  },
  {
   "cell_type": "code",
   "execution_count": null,
   "metadata": {},
   "outputs": [],
   "source": [
    "import numpy as np\n",
    "import os\n",
    "import cv2\n",
    "from sklearn.model_selection import KFold\n",
    "\n",
    "def read_data(path):\n",
    "    dataset = []\n",
    "    for filename in os.listdir(path):\n",
    "        file_path = os.path.join(path, filename)\n",
    "        if \"images\" in path:\n",
    "            file = cv2.imread(file_path)\n",
    "        if \"labels\" in path:\n",
    "                with open(file_path, 'r') as file:\n",
    "                    lines = file.readlines()\n",
    "                    file = []\n",
    "                    for line in lines:\n",
    "                        values = line.strip().split()\n",
    "                        class_label = int(values[0])\n",
    "                        bbox_coords = [float(val) for val in values[1:]]\n",
    "                        annotation = [class_label] + bbox_coords\n",
    "                        file.append(annotation)\n",
    "                    file = np.array(file)\n",
    "        dataset.append(file)\n",
    "    return np.array(dataset)\n",
    "\n",
    "def write_data(dataset, path):\n",
    "    if not os.path.exists(path):\n",
    "        os.makedirs(path)\n",
    "\n",
    "    for i, file in enumerate(dataset):\n",
    "        if \"images\" in path:\n",
    "            filename = f\"{i}.jpg\"\n",
    "            output_path = os.path.join(path, filename)\n",
    "            cv2.imwrite(output_path, file)\n",
    "        if \"labels\" in path:\n",
    "            for i, annotation in enumerate(dataset):\n",
    "                filename = f\"{i}.txt\"\n",
    "                output_path = os.path.join(path, filename)\n",
    "\n",
    "                with open(output_path, 'w') as file:\n",
    "                    for value in annotation:\n",
    "                        line = ' '.join(map(str, value))\n",
    "                        file.write(line)\n",
    "                        file.write('\\n') \n",
    "\n",
    "def cross_validation(values, labels):\n",
    "    current_iteration = 0\n",
    "    best_accuracy = 0.0\n",
    "    num_folds = 3\n",
    "    kf = KFold(n_splits=num_folds) # TODO: change the seed here\n",
    "\n",
    "    for train_index, test_index in kf.split(values):\n",
    "        values_train, values_test = values[train_index], values[test_index]\n",
    "        labels_train, labels_test = labels[train_index], labels[test_index]\n",
    "\n",
    "        # In order to use the training function, we need to store the images and labels in respective folders\n",
    "        output_path = dataset.location + f\"/train_fold_{current_iteration}\"\n",
    "        write_data(values_train, output_path + \"/images\")\n",
    "        write_data(labels_train, output_path + \"/labels\")\n",
    "        current_iteration += 1\n",
    "        \n",
    "        # Converts our new separated datasets into Dataloaders\n",
    "        train_data = coco_detection_yolo_format_train(\n",
    "            dataset_params={\n",
    "                'data_dir': config.DATA_DIR,\n",
    "                'images_dir': \"train_fold_{current_iteration}/images\", \n",
    "                'labels_dir': \"train_fold_{current_iteration}/labels\",\n",
    "                'classes': config.CLASSES\n",
    "            },\n",
    "            dataloader_params=config.DATALOADER_PARAMS\n",
    "        )\n",
    "        #predicted_labels = predict(values_test, values_train, labels_train, k)\n",
    "        #accuracy = accuracy_score(labels_test, predicted_labels)\n",
    "        #total_accuracy += accuracy"
   ]
  },
  {
   "cell_type": "code",
   "execution_count": null,
   "metadata": {},
   "outputs": [],
   "source": [
    "# Load data in order to split it in folds\n",
    "path = dataset.location + \"/train\"\n",
    "loaded_dataset = read_data(path + \"/images\")\n",
    "loaded_labels = read_data(path + \"/labels\")\n",
    "cross_validation(loaded_dataset, loaded_labels)"
   ]
  }
 ],
 "metadata": {
  "kernelspec": {
   "display_name": "Python 3",
   "language": "python",
   "name": "python3"
  },
  "language_info": {
   "codemirror_mode": {
    "name": "ipython",
    "version": 3
   },
   "file_extension": ".py",
   "mimetype": "text/x-python",
   "name": "python",
   "nbconvert_exporter": "python",
   "pygments_lexer": "ipython3",
   "version": "3.9.0"
  }
 },
 "nbformat": 4,
 "nbformat_minor": 0
}

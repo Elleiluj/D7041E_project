{
 "cells": [
  {
   "cell_type": "markdown",
   "metadata": {
    "collapsed": false,
    "pycharm": {
     "name": ""
    }
   },
   "source": [
    "## D7041E - Mini project: Human Real-time Detection"
   ]
  },
  {
   "cell_type": "markdown",
   "metadata": {},
   "source": [
    "### Group: Laura Bermejo, Lina Borg, Julie Labbé"
   ]
  },
  {
   "cell_type": "markdown",
   "metadata": {},
   "source": [
    "##### https://www.youtube.com/watch?v=V4Kkrz__hvo"
   ]
  },
  {
   "cell_type": "markdown",
   "metadata": {},
   "source": [
    "#### Requirements:\n",
    "###### pip install -q super-gradients==3.1.1\n",
    "###### pip install -q roboflow\n",
    "###### pip install -q supervision"
   ]
  },
  {
   "cell_type": "markdown",
   "metadata": {},
   "source": [
    "#### Dataset\n"
   ]
  },
  {
   "cell_type": "markdown",
   "metadata": {},
   "source": [
    "##### Code to download the dataset"
   ]
  },
  {
   "cell_type": "code",
   "execution_count": 1,
   "metadata": {},
   "outputs": [
    {
     "name": "stdout",
     "output_type": "stream",
     "text": [
      "loading Roboflow workspace...\n",
      "loading Roboflow project...\n"
     ]
    },
    {
     "name": "stderr",
     "output_type": "stream",
     "text": [
      "Downloading Dataset Version Zip in Human-Detection-2 to yolov5pytorch:: 100%|██████████| 32117/32117 [00:11<00:00, 2830.23it/s]"
     ]
    },
    {
     "name": "stdout",
     "output_type": "stream",
     "text": [
      "\n"
     ]
    },
    {
     "name": "stderr",
     "output_type": "stream",
     "text": [
      "\n",
      "Extracting Dataset Version Zip to Human-Detection-2 in yolov5pytorch:: 100%|██████████| 376/376 [00:00<00:00, 8772.40it/s]\n"
     ]
    }
   ],
   "source": [
    "from roboflow import Roboflow\n",
    "rf = Roboflow(api_key=\"DNm47rTel6WBxKZqAd9T\")\n",
    "project = rf.workspace(\"capricon\").project(\"human-detection-q0nit\")\n",
    "dataset = project.version(2).download(\"yolov5\")"
   ]
  },
  {
   "cell_type": "markdown",
   "metadata": {},
   "source": [
    "#### class Config Class definition"
   ]
  },
  {
   "cell_type": "code",
   "execution_count": null,
   "metadata": {},
   "outputs": [],
   "source": [
    "from typing import List, Dict\n",
    "\n",
    "class config:\n",
    "  #Project paths\n",
    "  DATA_DIR: str = \"Human-Detection-2\"\n",
    "  CHECKPOINT_DIR: str = \"/chekpoints\"\n",
    "  EXPERIMENT_NAME: str = \"Project\"\n",
    "\n",
    "  #Datasets\n",
    "  TRAIN_IMAGES_DIR: str =\"train/images\"\n",
    "  TRAIN_LABELS_DIR: str = \"train/labels\"\n",
    "  VAL_IMAGES_DIR: str = \"valid/images\"\n",
    "  VAL_LABELS_DIR: str = \"valid/labels\"\n",
    "  TEST_IMAGES_DIR: str = \"test/images\"\n",
    "  TEST_LABELS_DIR: str = \"test/labels\"\n",
    "\n",
    "  #Clases\n",
    "  CLASSES: List[str] = [\"human\", \"vehicle\"]\n",
    "  NUM_CLASSES: int = 2\n",
    "\n",
    "  #Model 1\n",
    "  # DEFINE HYPERPARAMETERS, YOU WILL HAVE TO CHANGE IT\n",
    "  DATALOADER_PARAMS: Dict = {\n",
    "      'batch_size':16,\n",
    "      'num_workes':1\n",
    "  }\n",
    "  # THIS IS ALREADY SET, CHANGE ONLY DATALOADER PARAMS\n",
    "  MODEL_NAME: str = 'yolo_nas_l'\n",
    "  PRETAINED_WEIGHTS: str ='coco'"
   ]
  },
  {
   "cell_type": "code",
   "execution_count": null,
   "metadata": {},
   "outputs": [],
   "source": []
  }
 ],
 "metadata": {
  "kernelspec": {
   "display_name": "Python 3",
   "language": "python",
   "name": "python3"
  },
  "language_info": {
   "codemirror_mode": {
    "name": "ipython",
    "version": 3
   },
   "file_extension": ".py",
   "mimetype": "text/x-python",
   "name": "python",
   "nbconvert_exporter": "python",
   "pygments_lexer": "ipython3",
   "version": "3.10.13"
  }
 },
 "nbformat": 4,
 "nbformat_minor": 0
}
